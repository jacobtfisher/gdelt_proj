{
 "cells": [
  {
   "cell_type": "markdown",
   "metadata": {},
   "source": [
    "# Preprocessing of GDELT GKG 2016"
   ]
  },
  {
   "cell_type": "code",
   "execution_count": 1,
   "metadata": {
    "collapsed": true
   },
   "outputs": [],
   "source": [
    "import os,sys\n",
    "import numpy as np\n",
    "import glob\n",
    "import pickle\n",
    "import pandas as pd \n",
    "from sklearn.preprocessing import LabelEncoder\n",
    "from matplotlib import pyplot as plt \n",
    "from utils import preprocess\n",
    "from variables import *\n",
    "\n",
    "pd.options.display.max_columns = 200"
   ]
  },
  {
   "cell_type": "code",
   "execution_count": 2,
   "metadata": {
    "collapsed": true
   },
   "outputs": [],
   "source": [
    "GKG_2016 = glob.glob('/lost+found/datamining/gdelt/gkg/*') #gives you all file names in a dir and stores them in a list"
   ]
  },
  {
   "cell_type": "markdown",
   "metadata": {},
   "source": [
    "#### Preprocessing (CAN BE SKIPPED NOW!)"
   ]
  },
  {
   "cell_type": "code",
   "execution_count": 3,
   "metadata": {
    "collapsed": true
   },
   "outputs": [
    {
     "name": "stdout",
     "output_type": "stream",
     "text": [
      "starting preprocessing, this may take some minutes\n",
      "dropping successful, moving on...\n",
      "reindexing successfull, continuing...\n",
      "renaming successfull, continuing...\n",
      "preprocessing successfull, happy analyzing.\n",
      "starting preprocessing, this may take some minutes\n",
      "dropping successful, moving on...\n",
      "reindexing successfull, continuing...\n",
      "renaming successfull, continuing...\n",
      "preprocessing successfull, happy analyzing.\n",
      "starting preprocessing, this may take some minutes\n",
      "dropping successful, moving on...\n",
      "reindexing successfull, continuing...\n",
      "renaming successfull, continuing...\n",
      "preprocessing successfull, happy analyzing.\n",
      "starting preprocessing, this may take some minutes\n",
      "dropping successful, moving on...\n",
      "reindexing successfull, continuing...\n",
      "renaming successfull, continuing...\n",
      "preprocessing successfull, happy analyzing.\n"
     ]
    }
   ],
   "source": [
    "dataframes=[] \n",
    "for gkg in GKG_2016:\n",
    "    df = preprocess(pd.read_pickle(gkg))\n",
    "    dataframes.append(df)\n",
    "    \n",
    "df = pd.concat([x for x in dataframes]) #concat all gkg files together\n",
    "dataframes = [] #clear RAM"
   ]
  },
  {
   "cell_type": "markdown",
   "metadata": {},
   "source": [
    "#### Load preprocessed files from here"
   ]
  },
  {
   "cell_type": "code",
   "execution_count": null,
   "metadata": {
    "collapsed": true
   },
   "outputs": [],
   "source": [
    "GKG_2016 = glob.glob('/lost+found/datamining/gdelt/gkg/gkg_2016*')"
   ]
  },
  {
   "cell_type": "code",
   "execution_count": null,
   "metadata": {
    "collapsed": true
   },
   "outputs": [],
   "source": [
    "dataframes = []\n",
    "for gkg in GKG_2016:\n",
    "    df = pd.read_pickle(gkg)\n",
    "    dataframes.append(df)\n",
    "    \n",
    "df = pd.concat([x for x in dataframes]) #concat all gkg files together\n",
    "dataframes = [] #clear RAM    "
   ]
  },
  {
   "cell_type": "markdown",
   "metadata": {},
   "source": [
    "#### Load and Merge Source Information (Poltical Leaning, State Run, Audience)"
   ]
  },
  {
   "cell_type": "code",
   "execution_count": 4,
   "metadata": {
    "collapsed": true
   },
   "outputs": [],
   "source": [
    "wl = pd.read_csv('whitelist.csv')"
   ]
  },
  {
   "cell_type": "code",
   "execution_count": 5,
   "metadata": {
    "collapsed": true
   },
   "outputs": [],
   "source": [
    "# Drop sources w/ no ptx information and \"centrist/neutral\" leaning to obtain liberal/conservative classification\n",
    "wl = wl[pd.notnull(wl['ptx'])]\n",
    "wl = wl[wl.ptx != 'Centrist']\n",
    "wl = wl[wl.ptx != 'Neutral']\n",
    "\n",
    "# Drop country code and state_run (there are only 8 state run sources) but keep audience \n",
    "del wl['country_code']\n",
    "del wl['state_run']"
   ]
  },
  {
   "cell_type": "code",
   "execution_count": 6,
   "metadata": {
    "collapsed": true
   },
   "outputs": [],
   "source": [
    "# Only select sources from gkg that are still in whitelist \n",
    "wl_sources = pd.Series(wl.source)\n",
    "df = df[df.source.isin(wl_sources)]"
   ]
  },
  {
   "cell_type": "code",
   "execution_count": 7,
   "metadata": {
    "collapsed": true,
    "scrolled": false
   },
   "outputs": [],
   "source": [
    "# Merge gkg and whitelist information \n",
    "df = df.merge(wl)\n",
    "df = df.set_index('date')"
   ]
  },
  {
   "cell_type": "markdown",
   "metadata": {},
   "source": [
    "#### Create Class Labels w/ Sklearn's LabelEncoder "
   ]
  },
  {
   "cell_type": "code",
   "execution_count": 8,
   "metadata": {
    "collapsed": true
   },
   "outputs": [],
   "source": [
    "# No need for one-hot-encoding as poltical orientation is our DV\n",
    "X_ptx = df['ptx'].values\n",
    "\n",
    "encoder = LabelEncoder()\n",
    "X_ptx = encoder.fit_transform(X_ptx)\n",
    "df['ptx_label'] = X_ptx"
   ]
  },
  {
   "cell_type": "code",
   "execution_count": 18,
   "metadata": {
    "collapsed": true
   },
   "outputs": [],
   "source": [
    "#df.to_pickle('gkg_2016_pp.pkl')"
   ]
  }
 ],
 "metadata": {
  "kernelspec": {
   "display_name": "Python 3",
   "language": "python",
   "name": "python3"
  },
  "language_info": {
   "codemirror_mode": {
    "name": "ipython",
    "version": 3
   },
   "file_extension": ".py",
   "mimetype": "text/x-python",
   "name": "python",
   "nbconvert_exporter": "python",
   "pygments_lexer": "ipython3",
   "version": "3.5.3"
  }
 },
 "nbformat": 4,
 "nbformat_minor": 2
}
